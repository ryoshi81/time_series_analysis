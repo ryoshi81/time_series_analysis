{
 "cells": [
  {
   "cell_type": "markdown",
   "metadata": {},
   "source": [
    "# TA-Libでテクニカル分析"
   ]
  },
  {
   "cell_type": "markdown",
   "metadata": {},
   "source": [
    "簡単にテクニカル分析ができるライブラリ[TA-Lib](https://github.com/mrjbq7/ta-lib)を試しました．TA-LibにはPythonのラッパーがあり，ここで簡単に紹介します．"
   ]
  },
  {
   "cell_type": "markdown",
   "metadata": {},
   "source": [
    "## 準備"
   ]
  },
  {
   "cell_type": "markdown",
   "metadata": {},
   "source": [
    "はじめに，[TA-Lib](http://ta-lib.org/)をインストールする必要があります．Macの場合はHomebrewでインストールできます．"
   ]
  },
  {
   "cell_type": "raw",
   "metadata": {},
   "source": [
    "$ brew install ta-lib"
   ]
  },
  {
   "cell_type": "markdown",
   "metadata": {},
   "source": [
    "Pythonで使えるようにします．"
   ]
  },
  {
   "cell_type": "raw",
   "metadata": {},
   "source": [
    "$ pip install TA-Lib"
   ]
  },
  {
   "cell_type": "markdown",
   "metadata": {},
   "source": [
    "## テクニカル分析"
   ]
  },
  {
   "cell_type": "markdown",
   "metadata": {},
   "source": [
    "今回使用するライブラリをインポートします．"
   ]
  },
  {
   "cell_type": "code",
   "execution_count": null,
   "metadata": {
    "collapsed": false
   },
   "outputs": [],
   "source": [
    "import numpy as np\n",
    "import pandas as pd\n",
    "import talib\n",
    "import quandl"
   ]
  },
  {
   "cell_type": "markdown",
   "metadata": {},
   "source": [
    "今回はquandlでデータを取得します．"
   ]
  },
  {
   "cell_type": "code",
   "execution_count": null,
   "metadata": {
    "collapsed": true
   },
   "outputs": [],
   "source": [
    "df = quandl.get('NIKKEI/INDEX')  # quandlの場合"
   ]
  },
  {
   "cell_type": "markdown",
   "metadata": {},
   "source": [
    "[TA-Lib](https://github.com/mrjbq7/ta-lib)はDataFrameを引数にできないので，numpyのndarray形式にします．"
   ]
  },
  {
   "cell_type": "code",
   "execution_count": null,
   "metadata": {
    "collapsed": false
   },
   "outputs": [],
   "source": [
    "close = np.array(df['Close Price'])\n",
    "close[:5]"
   ]
  },
  {
   "cell_type": "markdown",
   "metadata": {},
   "source": [
    "とにかく，いろいろなテクニカル指標を試してみます．（今回は終値のみで，ローソク足を用いる指標は使っていません．）"
   ]
  },
  {
   "cell_type": "code",
   "execution_count": null,
   "metadata": {
    "collapsed": false,
    "scrolled": true
   },
   "outputs": [],
   "source": [
    "output = close.copy()\n",
    "cols = ['Original']\n",
    "# 単純移動平均(SMA: Simple Moving Average)\n",
    "output = np.c_[output, talib.SMA(close)]\n",
    "cols += ['SMA']\n",
    "# 加重移動平均(WMA: Weighted Moving Average)\n",
    "output = np.c_[output, talib.WMA(close)]\n",
    "cols += ['WMA']\n",
    "# 指数移動平均(EMA: Exponential Moving Average)\n",
    "output = np.c_[output, talib.EMA(close)]\n",
    "cols += ['EMA']\n",
    "# ２重指数移動平均(DEMA: Double Exponential Moving Average)\n",
    "output = np.c_[output, talib.DEMA(close)]\n",
    "cols += ['DEMA']\n",
    "# ３重指数移動平均(TEMA: Triple Exponential Moving Average)\n",
    "output = np.c_[output, talib.T3(close)]\n",
    "cols += ['TEMA']\n",
    "# 三角移動平均(TMA: Triangular Moving Average)\n",
    "output = np.c_[output, talib.TRIMA(close)]\n",
    "cols += ['TMA']\n",
    "# Kaufmanの適応型移動平均(KAMA: Kaufman Adaptive Moving Average)\n",
    "output = np.c_[output, talib.KAMA(close)]\n",
    "cols += ['KAMA']\n",
    "# MESAの適応型移動平均(MAMA: MESA Adaptive Moving Average)\n",
    "for arr in talib.MAMA(close):\n",
    "    output = np.c_[output, arr]\n",
    "cols += ['MAMA', 'FAMA']\n",
    "# トレンドライン(Hilbert Transform - Instantaneous Trendline)\n",
    "output = np.c_[output, talib.HT_TRENDLINE(close)]\n",
    "cols += ['HT_TRENDLINE']\n",
    "# ボリンジャー・バンド(Bollinger Bands)\n",
    "for arr in talib.BBANDS(close):\n",
    "    output = np.c_[output, arr]\n",
    "cols += ['BBANDS_upperband', 'BBANDS_middleband', 'BBANDS_lowerband']\n",
    "# MidPoint over period\n",
    "output = np.c_[output, talib.MIDPOINT(close)]\n",
    "cols += ['MIDPOINT']\n",
    "\n",
    "# 変化率(ROC: Rate of change Percentage)\n",
    "output = np.c_[output, talib.ROCP(close)]\n",
    "cols += ['ROC']\n",
    "# モメンタム(Momentum)\n",
    "output = np.c_[output, talib.MOM(close)]\n",
    "cols += ['MOM']\n",
    "# RSI: Relative Strength Index\n",
    "output = np.c_[output, talib.RSI(close)]\n",
    "cols += ['RSI']\n",
    "# MACD: Moving Average Convergence/Divergence\n",
    "for arr in talib.MACD(close):\n",
    "    output = np.c_[output, arr]\n",
    "cols += ['MACD', 'MACD_signal', 'MACD_hist']\n",
    "# APO: Absolute Price Oscillator\n",
    "output = np.c_[output, talib.APO(close)]\n",
    "cols += ['APO']\n",
    "# PPO: Percentage Price Oscillator\n",
    "output = np.c_[output, talib.PPO(close)]\n",
    "cols += ['PPO']\n",
    "# CMO: Chande Momentum Oscillator\n",
    "output = np.c_[output, talib.CMO(close)]\n",
    "cols += ['CMO']\n",
    "\n",
    "# ヒルベルト変換 - Dominant Cycle Period\n",
    "output = np.c_[output, talib.HT_DCPERIOD(close)]\n",
    "cols += ['HT_DCPERIOD']\n",
    "# ヒルベルト変換 - Dominant Cycle Phase\n",
    "output = np.c_[output, talib.HT_DCPHASE(close)]\n",
    "cols += ['HT_DCPHASE']\n",
    "# ヒルベルト変換 - Phasor Components\n",
    "for arr in talib.HT_PHASOR(close):\n",
    "    output = np.c_[output, arr]\n",
    "cols += ['HT_PHASOR_inphase', 'HT_PHASOR_quadrature']\n",
    "# ヒルベルト変換 - SineWave\n",
    "for arr in talib.HT_SINE(close):\n",
    "    output = np.c_[output, arr]\n",
    "cols += ['HT_SINE_sine', 'HT_SINE_leadsine']    \n",
    "# ヒルベルト変換 - Trend vs Cycle Mode\n",
    "output = np.c_[output, talib.HT_TRENDMODE(close)]\n",
    "cols += ['HT_TRENDMODE']\n",
    "output.shape\n",
    "\n",
    "# 60日単純移動平均\n",
    "output = np.c_[output, talib.SMA(close, timeperiod=60)]\n",
    "cols += ['SMA60']\n",
    "# 15日ボリンジャー・バンド\n",
    "for arr in talib.BBANDS(close, timeperiod=15, nbdevup=2, nbdevdn=2, matype=0):\n",
    "    output = np.c_[output, arr]\n",
    "cols += ['BBANDS15_upperband', 'BBANDS15_middleband', 'BBANDS15_lowerband']\n",
    "# 21日RSI\n",
    "output = np.c_[output, talib.RSI(close, timeperiod=21)]\n",
    "cols += ['RSI21']"
   ]
  },
  {
   "cell_type": "markdown",
   "metadata": {
    "collapsed": false
   },
   "source": [
    "引数のtimeperiodを指定して，いろんな期間を計算できます．<br>\n",
    "\n",
    "DataFrame形式にして，日付と対応させます．"
   ]
  },
  {
   "cell_type": "code",
   "execution_count": null,
   "metadata": {
    "collapsed": false
   },
   "outputs": [],
   "source": [
    "data = pd.DataFrame(output, index=df.index, columns=cols)\n",
    "data.tail()"
   ]
  },
  {
   "cell_type": "markdown",
   "metadata": {},
   "source": [
    "CSVに書き出します．"
   ]
  },
  {
   "cell_type": "code",
   "execution_count": null,
   "metadata": {
    "collapsed": true
   },
   "outputs": [],
   "source": [
    "data.to_csv('NIKKEI_ta.csv')"
   ]
  },
  {
   "cell_type": "markdown",
   "metadata": {
    "collapsed": true
   },
   "source": [
    "[TA-Lib](https://github.com/mrjbq7/ta-lib)は予測モデルの特徴量の作成に便利です．"
   ]
  }
 ],
 "metadata": {
  "kernelspec": {
   "display_name": "Python 3",
   "language": "python",
   "name": "python3"
  },
  "language_info": {
   "codemirror_mode": {
    "name": "ipython",
    "version": 3
   },
   "file_extension": ".py",
   "mimetype": "text/x-python",
   "name": "python",
   "nbconvert_exporter": "python",
   "pygments_lexer": "ipython3",
   "version": "3.6.0"
  }
 },
 "nbformat": 4,
 "nbformat_minor": 2
}
